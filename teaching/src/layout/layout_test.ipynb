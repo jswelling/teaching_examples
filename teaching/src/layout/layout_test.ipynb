{
 "cells": [
  {
   "cell_type": "code",
   "execution_count": 1,
   "metadata": {},
   "outputs": [],
   "source": [
    "import numpy as np\n",
    "from pprint import pprint\n",
    "from writebov import writeBOV\n",
    "from layout import Layout"
   ]
  },
  {
   "cell_type": "code",
   "execution_count": 7,
   "metadata": {},
   "outputs": [],
   "source": [
    "#layout = Layout(5*3*2, (128, 128, 128), (640, 384, 256))\n",
    "layout = Layout(4*4*4, (128, 128, 128), (512, 512, 512))"
   ]
  },
  {
   "cell_type": "code",
   "execution_count": 8,
   "metadata": {},
   "outputs": [
    {
     "name": "stdout",
     "output_type": "stream",
     "text": [
      "(17, (102, 67, 72))\n"
     ]
    }
   ],
   "source": [
    "print(layout.gbl_to_lcl((230, 67, 200)))"
   ]
  },
  {
   "cell_type": "code",
   "execution_count": 9,
   "metadata": {},
   "outputs": [
    {
     "name": "stdout",
     "output_type": "stream",
     "text": [
      "[102, 195, 456]\n"
     ]
    }
   ],
   "source": [
    "print(layout.lcl_to_gbl(7, (102, 67, 72)))"
   ]
  },
  {
   "cell_type": "code",
   "execution_count": 10,
   "metadata": {},
   "outputs": [
    {
     "name": "stdout",
     "output_type": "stream",
     "text": [
      "gbl_shape is (512, 512, 512), ranks_per_edge is [4, 4, 4], local shape (128, 128, 128)\n"
     ]
    }
   ],
   "source": [
    "print(f'gbl_shape is {layout.gbl_shape}, ranks_per_edge is {layout.ranks_per_edge}, local shape {layout.shape}')\n",
    "for idx in range(10000):\n",
    "    gbl_indices = np.random.randint((0,0,0), layout.gbl_shape)\n",
    "    rank, lcl_indices = layout.gbl_to_lcl(gbl_indices)\n",
    "    new_gbl_indices = layout.lcl_to_gbl(rank, lcl_indices)\n",
    "    if any(new_gbl_indices != gbl_indices):\n",
    "        print(f'{gbl_indices} -> {rank} {lcl_indices} -> {new_gbl_indices}')"
   ]
  },
  {
   "cell_type": "code",
   "execution_count": 12,
   "metadata": {},
   "outputs": [],
   "source": [
    "grid = np.zeros(layout.gbl_shape, dtype=np.int32)\n",
    "for i in range(layout.gbl_shape[0]):\n",
    "    for j in range(layout.gbl_shape[1]):\n",
    "        for k in range(layout.gbl_shape[2]):\n",
    "            rank, offsets = layout.gbl_to_lcl((i,j,k))\n",
    "            grid[i,j,k] = rank\n",
    "writeBOV(grid)"
   ]
  },
  {
   "cell_type": "code",
   "execution_count": 13,
   "metadata": {},
   "outputs": [],
   "source": [
    "slab_layout = Layout(4*4*4, (512, 512, 8), (512, 512, 512))"
   ]
  },
  {
   "cell_type": "code",
   "execution_count": 14,
   "metadata": {},
   "outputs": [],
   "source": [
    "grid = np.zeros(slab_layout.gbl_shape, dtype=np.int32)\n",
    "for i in range(slab_layout.gbl_shape[0]):\n",
    "    for j in range(slab_layout.gbl_shape[1]):\n",
    "        for k in range(slab_layout.gbl_shape[2]):\n",
    "            rank, offsets = slab_layout.gbl_to_lcl((i,j,k))\n",
    "            grid[i,j,k] = rank\n",
    "writeBOV(grid)"
   ]
  },
  {
   "cell_type": "code",
   "execution_count": 15,
   "metadata": {},
   "outputs": [],
   "source": [
    "pencil_layout = Layout(4*4*4, (64, 64, 512), (512, 512, 512))"
   ]
  },
  {
   "cell_type": "code",
   "execution_count": 16,
   "metadata": {},
   "outputs": [],
   "source": [
    "grid = np.zeros(pencil_layout.gbl_shape, dtype=np.int32)\n",
    "for i in range(pencil_layout.gbl_shape[0]):\n",
    "    for j in range(pencil_layout.gbl_shape[1]):\n",
    "        for k in range(pencil_layout.gbl_shape[2]):\n",
    "            rank, offsets = pencil_layout.gbl_to_lcl((i,j,k))\n",
    "            grid[i,j,k] = rank\n",
    "writeBOV(grid)"
   ]
  },
  {
   "cell_type": "code",
   "execution_count": null,
   "metadata": {},
   "outputs": [],
   "source": []
  },
  {
   "cell_type": "code",
   "execution_count": 11,
   "metadata": {},
   "outputs": [
    {
     "name": "stdout",
     "output_type": "stream",
     "text": [
      "[  0   1  10  11  20  21 100 101 110 111 120 121 200 201 210 211 220 221\n",
      " 300 301 310 311 320 321 400 401 410 411 420 421]\n"
     ]
    }
   ],
   "source": [
    "a = np.zeros((5,3,2), dtype=int)\n",
    "for i in range(5):\n",
    "    for j in range(3):\n",
    "        for k in range(2):\n",
    "            a[i,j,k] = 100*i + 10*j + k\n",
    "print(a.flatten())"
   ]
  },
  {
   "cell_type": "code",
   "execution_count": null,
   "metadata": {},
   "outputs": [],
   "source": []
  }
 ],
 "metadata": {
  "kernelspec": {
   "display_name": "Python3 (hubmapEnv)",
   "language": "python",
   "name": "hubmapenv"
  },
  "language_info": {
   "codemirror_mode": {
    "name": "ipython",
    "version": 3
   },
   "file_extension": ".py",
   "mimetype": "text/x-python",
   "name": "python",
   "nbconvert_exporter": "python",
   "pygments_lexer": "ipython3",
   "version": "3.7.3"
  }
 },
 "nbformat": 4,
 "nbformat_minor": 4
}
